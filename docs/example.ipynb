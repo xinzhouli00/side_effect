{
    "cells": [
        {
            "cell_type": "markdown",
            "metadata": {},
            "source": [
                "# Side Effect Analyzer Example\n",
                "\n",
                "This notebook demonstrates how to use the `SideEffectAnalyzer` to process drug reviews, analyze side effects, and generate relevant outputs.\n",
                "\n",
                "## Step 1: Import Libraries and Initialize Analyzer\n",
                "We will import the necessary libraries and initialize the `SideEffectAnalyzer` with the following:\n",
                "- Initial keywords: `[\"nausea\", \"dizziness\", \"headache\", \"stomach pain\"]`.\n",
                "- Official side effects: `[\"fatigue\", \"dry mouth\", \"anxiety\"]`."
            ]
        },
        {
            "cell_type": "code",
            "execution_count": null,
            "metadata": {},
            "outputs": [],
            "source": [
                "# Import required modules\n",
                "from src.side_effect.apply import SideEffectAnalyzer\n",
                "import pandas as pd\n",
                "\n",
                "# Define initial keywords and official side effects\n",
                "initial_keywords = [\"nausea\", \"dizziness\", \"headache\", \"stomach pain\"]\n",
                "side_effects_official = [\"fatigue\", \"dry mouth\", \"anxiety\"]\n",
                "\n",
                "# Initialize the SideEffectAnalyzer\n",
                "analyzer = SideEffectAnalyzer(initial_keywords, side_effects_official)"
            ]
        },
        {
            "cell_type": "markdown",
            "metadata": {},
            "source": [
                "## Step 2: Load and Process Dataset\n",
                "We will now load the dataset (`simulants_reviews.csv`) and process it using the `SideEffectAnalyzer`.\n",
                "\n",
                "The output will include:\n",
                "- Processed comment dictionary.\n",
                "- Side effect scores for each drug.\n",
                "- Top K comments for each side effect."
            ]
        },
        {
            "cell_type": "code",
            "execution_count": null,
            "metadata": {},
            "outputs": [],
            "source": [
                "# Load the dataset\n",
                "file_path = \"simulants_reviews.csv\"\n",
                "\n",
                "# Process the file using the analyzer\n",
                "results = analyzer.process_file(file_path)\n",
                "\n",
                "# Extract results\n",
                "comment_dict, side_effect_scores, top_k_comments = results\n",
                "\n",
                "# Display side effect scores for drugs\n",
                "side_effect_scores"
            ]
        },
        {
            "cell_type": "markdown",
            "metadata": {},
            "source": [
                "## Step 3: Display Expanded Keywords\n",
                "The analyzer will dynamically expand the initial keywords using both WordNet and the official side effects list.\n",
                "\n",
                "Here are the expanded keywords for each initial keyword."
            ]
        },
        {
            "cell_type": "code",
            "execution_count": null,
            "metadata": {},
            "outputs": [],
            "source": [
                "# Expand keywords using the analyzer's keyword expander\n",
                "expanded_keywords = analyzer.keyword_expander.expand_keywords(initial_keywords)\n",
                "\n",
                "# Display the expanded keywords\n",
                "for initial_kw, expansions in expanded_keywords.items():\n",
                "    print(f\"Initial Keyword: {initial_kw}\")\n",
                "    for exp in expansions:\n",
                "        print(f\"  - {list(exp.keys())[0]}: {list(exp.values())[0]}\")\n",
                "    print(\"\\n\")"
            ]
        },
        {
            "cell_type": "markdown",
            "metadata": {},
            "source": [
                "## Step 4: Display Top K Comments\n",
                "We will now display the top K comments related to each side effect, sorted by their relevance scores."
            ]
        },
        {
            "cell_type": "code",
            "execution_count": null,
            "metadata": {},
            "outputs": [],
            "source": [
                "# Display top K comments related to each side effect\n",
                "print(\"Top K Comments\")\n",
                "for comment in top_k_comments:\n",
                "    print(f\"Drug: {comment['drug']}, Side Effect: {comment['side_effect']}, Score: {comment['score']}\")\n",
                "    print(f\"Comment: {comment['comment']}\\n\")"
            ]
        },
        {
            "cell_type": "markdown",
            "metadata": {},
            "source": [
                "## Step 5: Save Results to CSV\n",
                "Finally, we will save the analysis results to CSV files:\n",
                "- `updated_comments.csv`: Contains the processed comments with side effects.\n",
                "- `side_effect_scores.csv`: Contains relevance scores for each drug and side effect.\n",
                "- `top_k_comments.csv`: Contains the top K comments for each side effect."
            ]
        },
        {
            "cell_type": "code",
            "execution_count": null,
            "metadata": {},
            "outputs": [],
            "source": [
                "# Save the results to CSV files\n",
                "pd.DataFrame(comment_dict).to_csv(\"updated_comments.csv\", index=False)\n",
                "pd.DataFrame([\n",
                "    {\"Drug Name\": drug, **scores} for drug, scores in side_effect_scores.items()\n",
                "]).to_csv(\"side_effect_scores.csv\", index=False)\n",
                "pd.DataFrame(top_k_comments).to_csv(\"top_k_comments.csv\", index=False)\n",
                "\n",
                "print(\"Results saved to CSV files:\")\n",
                "print(\"- updated_comments.csv\")\n",
                "print(\"- side_effect_scores.csv\")\n",
                "print(\"- top_k_comments.csv\")"
            ]
        }
    ],
    "metadata": {
        "kernelspec": {
            "display_name": "Python 3",
            "language": "python",
            "name": "python3"
        },
        "language_info": {
            "codemirror_mode": {
                "name": "ipython",
                "version": 3
            },
            "file_extension": ".py",
            "mimetype": "text/x-python",
            "name": "python",
            "nbconvert_exporter": "python",
            "pygments_lexer": "ipython3",
            "version": "3.8.5"
        }
    },
    "nbformat": 4,
    "nbformat_minor": 4
}
